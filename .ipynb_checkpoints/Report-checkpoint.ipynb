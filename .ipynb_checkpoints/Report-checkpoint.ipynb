{
 "cells": [
  {
   "cell_type": "markdown",
   "id": "c177b6b4",
   "metadata": {},
   "source": [
    "<h1 style='text-align:center'> Report Of IBM About Attrition And Other Factors </h1>"
   ]
  },
  {
   "cell_type": "markdown",
   "id": "160b7b95",
   "metadata": {},
   "source": [
    "<img src='https://i1.wp.com/hpbbnews.com/wp-content/uploads/2016/09/ibm.jpg?fit=672%2C321&ssl=1'></img>"
   ]
  },
  {
   "cell_type": "code",
   "execution_count": 2,
   "id": "d1185aa4",
   "metadata": {},
   "outputs": [],
   "source": [
    "import numpy as np\n",
    "import pandas as pd\n",
    "import matplotlib.pyplot as plt\n",
    "import matplotlib.style as style\n",
    "import seaborn as sns\n",
    "from scipy import stats\n",
    "\n",
    "%matplotlib inline"
   ]
  },
  {
   "cell_type": "code",
   "execution_count": 3,
   "id": "cfa5d19a",
   "metadata": {},
   "outputs": [],
   "source": [
    "df = pd.read_csv('HR-Employee-Attrition.csv')"
   ]
  },
  {
   "cell_type": "code",
   "execution_count": 5,
   "id": "399072cb",
   "metadata": {
    "scrolled": true
   },
   "outputs": [
    {
     "data": {
      "text/html": [
       "<div>\n",
       "<style scoped>\n",
       "    .dataframe tbody tr th:only-of-type {\n",
       "        vertical-align: middle;\n",
       "    }\n",
       "\n",
       "    .dataframe tbody tr th {\n",
       "        vertical-align: top;\n",
       "    }\n",
       "\n",
       "    .dataframe thead th {\n",
       "        text-align: right;\n",
       "    }\n",
       "</style>\n",
       "<table border=\"1\" class=\"dataframe\">\n",
       "  <thead>\n",
       "    <tr style=\"text-align: right;\">\n",
       "      <th></th>\n",
       "      <th>Age</th>\n",
       "      <th>Attrition</th>\n",
       "      <th>BusinessTravel</th>\n",
       "      <th>DailyRate</th>\n",
       "      <th>Department</th>\n",
       "      <th>DistanceFromHome</th>\n",
       "      <th>Education</th>\n",
       "      <th>EducationField</th>\n",
       "      <th>EmployeeCount</th>\n",
       "      <th>EmployeeNumber</th>\n",
       "      <th>...</th>\n",
       "      <th>RelationshipSatisfaction</th>\n",
       "      <th>StandardHours</th>\n",
       "      <th>StockOptionLevel</th>\n",
       "      <th>TotalWorkingYears</th>\n",
       "      <th>TrainingTimesLastYear</th>\n",
       "      <th>WorkLifeBalance</th>\n",
       "      <th>YearsAtCompany</th>\n",
       "      <th>YearsInCurrentRole</th>\n",
       "      <th>YearsSinceLastPromotion</th>\n",
       "      <th>YearsWithCurrManager</th>\n",
       "    </tr>\n",
       "  </thead>\n",
       "  <tbody>\n",
       "    <tr>\n",
       "      <th>0</th>\n",
       "      <td>41</td>\n",
       "      <td>Yes</td>\n",
       "      <td>Travel_Rarely</td>\n",
       "      <td>1102</td>\n",
       "      <td>Sales</td>\n",
       "      <td>1</td>\n",
       "      <td>2</td>\n",
       "      <td>Life Sciences</td>\n",
       "      <td>1</td>\n",
       "      <td>1</td>\n",
       "      <td>...</td>\n",
       "      <td>1</td>\n",
       "      <td>80</td>\n",
       "      <td>0</td>\n",
       "      <td>8</td>\n",
       "      <td>0</td>\n",
       "      <td>1</td>\n",
       "      <td>6</td>\n",
       "      <td>4</td>\n",
       "      <td>0</td>\n",
       "      <td>5</td>\n",
       "    </tr>\n",
       "    <tr>\n",
       "      <th>1</th>\n",
       "      <td>49</td>\n",
       "      <td>No</td>\n",
       "      <td>Travel_Frequently</td>\n",
       "      <td>279</td>\n",
       "      <td>Research &amp; Development</td>\n",
       "      <td>8</td>\n",
       "      <td>1</td>\n",
       "      <td>Life Sciences</td>\n",
       "      <td>1</td>\n",
       "      <td>2</td>\n",
       "      <td>...</td>\n",
       "      <td>4</td>\n",
       "      <td>80</td>\n",
       "      <td>1</td>\n",
       "      <td>10</td>\n",
       "      <td>3</td>\n",
       "      <td>3</td>\n",
       "      <td>10</td>\n",
       "      <td>7</td>\n",
       "      <td>1</td>\n",
       "      <td>7</td>\n",
       "    </tr>\n",
       "    <tr>\n",
       "      <th>2</th>\n",
       "      <td>37</td>\n",
       "      <td>Yes</td>\n",
       "      <td>Travel_Rarely</td>\n",
       "      <td>1373</td>\n",
       "      <td>Research &amp; Development</td>\n",
       "      <td>2</td>\n",
       "      <td>2</td>\n",
       "      <td>Other</td>\n",
       "      <td>1</td>\n",
       "      <td>4</td>\n",
       "      <td>...</td>\n",
       "      <td>2</td>\n",
       "      <td>80</td>\n",
       "      <td>0</td>\n",
       "      <td>7</td>\n",
       "      <td>3</td>\n",
       "      <td>3</td>\n",
       "      <td>0</td>\n",
       "      <td>0</td>\n",
       "      <td>0</td>\n",
       "      <td>0</td>\n",
       "    </tr>\n",
       "    <tr>\n",
       "      <th>3</th>\n",
       "      <td>33</td>\n",
       "      <td>No</td>\n",
       "      <td>Travel_Frequently</td>\n",
       "      <td>1392</td>\n",
       "      <td>Research &amp; Development</td>\n",
       "      <td>3</td>\n",
       "      <td>4</td>\n",
       "      <td>Life Sciences</td>\n",
       "      <td>1</td>\n",
       "      <td>5</td>\n",
       "      <td>...</td>\n",
       "      <td>3</td>\n",
       "      <td>80</td>\n",
       "      <td>0</td>\n",
       "      <td>8</td>\n",
       "      <td>3</td>\n",
       "      <td>3</td>\n",
       "      <td>8</td>\n",
       "      <td>7</td>\n",
       "      <td>3</td>\n",
       "      <td>0</td>\n",
       "    </tr>\n",
       "    <tr>\n",
       "      <th>4</th>\n",
       "      <td>27</td>\n",
       "      <td>No</td>\n",
       "      <td>Travel_Rarely</td>\n",
       "      <td>591</td>\n",
       "      <td>Research &amp; Development</td>\n",
       "      <td>2</td>\n",
       "      <td>1</td>\n",
       "      <td>Medical</td>\n",
       "      <td>1</td>\n",
       "      <td>7</td>\n",
       "      <td>...</td>\n",
       "      <td>4</td>\n",
       "      <td>80</td>\n",
       "      <td>1</td>\n",
       "      <td>6</td>\n",
       "      <td>3</td>\n",
       "      <td>3</td>\n",
       "      <td>2</td>\n",
       "      <td>2</td>\n",
       "      <td>2</td>\n",
       "      <td>2</td>\n",
       "    </tr>\n",
       "  </tbody>\n",
       "</table>\n",
       "<p>5 rows × 35 columns</p>\n",
       "</div>"
      ],
      "text/plain": [
       "   Age Attrition     BusinessTravel  DailyRate              Department  \\\n",
       "0   41       Yes      Travel_Rarely       1102                   Sales   \n",
       "1   49        No  Travel_Frequently        279  Research & Development   \n",
       "2   37       Yes      Travel_Rarely       1373  Research & Development   \n",
       "3   33        No  Travel_Frequently       1392  Research & Development   \n",
       "4   27        No      Travel_Rarely        591  Research & Development   \n",
       "\n",
       "   DistanceFromHome  Education EducationField  EmployeeCount  EmployeeNumber  \\\n",
       "0                 1          2  Life Sciences              1               1   \n",
       "1                 8          1  Life Sciences              1               2   \n",
       "2                 2          2          Other              1               4   \n",
       "3                 3          4  Life Sciences              1               5   \n",
       "4                 2          1        Medical              1               7   \n",
       "\n",
       "   ...  RelationshipSatisfaction StandardHours  StockOptionLevel  \\\n",
       "0  ...                         1            80                 0   \n",
       "1  ...                         4            80                 1   \n",
       "2  ...                         2            80                 0   \n",
       "3  ...                         3            80                 0   \n",
       "4  ...                         4            80                 1   \n",
       "\n",
       "   TotalWorkingYears  TrainingTimesLastYear WorkLifeBalance  YearsAtCompany  \\\n",
       "0                  8                      0               1               6   \n",
       "1                 10                      3               3              10   \n",
       "2                  7                      3               3               0   \n",
       "3                  8                      3               3               8   \n",
       "4                  6                      3               3               2   \n",
       "\n",
       "  YearsInCurrentRole  YearsSinceLastPromotion  YearsWithCurrManager  \n",
       "0                  4                        0                     5  \n",
       "1                  7                        1                     7  \n",
       "2                  0                        0                     0  \n",
       "3                  7                        3                     0  \n",
       "4                  2                        2                     2  \n",
       "\n",
       "[5 rows x 35 columns]"
      ]
     },
     "execution_count": 5,
     "metadata": {},
     "output_type": "execute_result"
    }
   ],
   "source": [
    "df.head()"
   ]
  },
  {
   "cell_type": "markdown",
   "id": "60f2e38e",
   "metadata": {},
   "source": [
    "<h1> Review number of factors </h1>"
   ]
  },
  {
   "cell_type": "markdown",
   "id": "7649137c",
   "metadata": {},
   "source": [
    "<h3> Age </h3>"
   ]
  },
  {
   "cell_type": "code",
   "execution_count": 11,
   "id": "50e68c02",
   "metadata": {},
   "outputs": [
    {
     "data": {
      "text/plain": [
       "36.923809523809524"
      ]
     },
     "execution_count": 11,
     "metadata": {},
     "output_type": "execute_result"
    }
   ],
   "source": [
    "df['Age'].mean()"
   ]
  },
  {
   "cell_type": "markdown",
   "id": "6e3733a7",
   "metadata": {},
   "source": [
    "<p> The average age is <a style=\"color: green\">37</a></p>"
   ]
  },
  {
   "cell_type": "code",
   "execution_count": 7,
   "id": "c2652f7b",
   "metadata": {},
   "outputs": [
    {
     "data": {
      "text/plain": [
       "array([78, 77, 69, 69, 68, 61, 60, 58, 58, 57, 50, 48, 48, 46, 42, 41, 40,\n",
       "       39, 33, 33, 32, 30, 26, 26, 24, 24, 22, 19, 19, 19, 18, 18, 16, 14,\n",
       "       14, 14, 13, 11, 10,  9,  8,  5,  4], dtype=int64)"
      ]
     },
     "execution_count": 7,
     "metadata": {},
     "output_type": "execute_result"
    }
   ],
   "source": [
    "df['Age'].value_counts().values"
   ]
  },
  {
   "cell_type": "code",
   "execution_count": 10,
   "id": "de3949d0",
   "metadata": {},
   "outputs": [
    {
     "data": {
      "text/plain": [
       "<BarContainer object of 43 artists>"
      ]
     },
     "execution_count": 10,
     "metadata": {},
     "output_type": "execute_result"
    },
    {
     "data": {
      "image/png": "[encoded data removed]",
      "text/plain": [
       "<Figure size 1152x648 with 1 Axes>"
      ]
     },
     "metadata": {
      "needs_background": "light"
     },
     "output_type": "display_data"
    }
   ],
   "source": [
    "plt.figure(figsize=(16,9))\n",
    "plt.bar(df['Age'].value_counts().index, df['Age'].value_counts().values)"
   ]
  },
  {
   "cell_type": "markdown",
   "id": "ed308ea6",
   "metadata": {},
   "source": [
    "<p>The graph show the range of age is from 18 to 60 </p>\n",
    "<p>Almost age forcus on 25 to 45</p>"
   ]
  },
  {
   "cell_type": "markdown",
   "id": "34f9dece",
   "metadata": {},
   "source": [
    "<h3> Attrition </h3>"
   ]
  },
  {
   "cell_type": "code",
   "execution_count": 17,
   "id": "f9aacabb",
   "metadata": {},
   "outputs": [
    {
     "data": {
      "text/plain": [
       "No     1233\n",
       "Yes     237\n",
       "Name: Attrition, dtype: int64"
      ]
     },
     "execution_count": 17,
     "metadata": {},
     "output_type": "execute_result"
    }
   ],
   "source": [
    "df['Attrition'].value_counts()"
   ]
  },
  {
   "cell_type": "code",
   "execution_count": 20,
   "id": "d124d0bc",
   "metadata": {},
   "outputs": [
    {
     "data": {
      "text/plain": [
       "([<matplotlib.patches.Wedge at 0x27d4a16a040>,\n",
       "  <matplotlib.patches.Wedge at 0x27d4a16a760>],\n",
       " [Text(-0.9618916732177651, 0.5336332157899547, 'No'),\n",
       "  Text(0.961891673217765, -0.5336332157899547, 'Yes')],\n",
       " [Text(-0.5246681853915082, 0.29107266315815705, '83.9%'),\n",
       "  Text(0.5246681853915082, -0.2910726631581571, '16.1%')])"
      ]
     },
     "execution_count": 20,
     "metadata": {},
     "output_type": "execute_result"
    },
    {
     "data": {
      "image/png": "[encoded data removed]",
      "text/plain": [
       "<Figure size 432x288 with 1 Axes>"
      ]
     },
     "metadata": {},
     "output_type": "display_data"
    }
   ],
   "source": [
    "plt.pie(df['Attrition'].value_counts(), labels=df['Attrition'].value_counts().index, autopct='%1.1f%%')"
   ]
  },
  {
   "cell_type": "markdown",
   "id": "369b003e",
   "metadata": {},
   "source": [
    "<p> The rate of attrition is 16.1%. That's really high!. </p>"
   ]
  },
  {
   "cell_type": "markdown",
   "id": "25e649d8",
   "metadata": {},
   "source": [
    "<h3> Business Travel & Department</h3>"
   ]
  },
  {
   "cell_type": "code",
   "execution_count": 99,
   "id": "f74c9e48",
   "metadata": {},
   "outputs": [
    {
     "data": {
      "text/plain": [
       "Index(['Travel_Rarely', 'Travel_Frequently', 'Non-Travel'], dtype='object')"
      ]
     },
     "execution_count": 99,
     "metadata": {},
     "output_type": "execute_result"
    }
   ],
   "source": [
    "departments = df['Department'].value_counts()\n",
    "travel_business = df['BusinessTravel'].value_counts()\n",
    "travel_business.index"
   ]
  },
  {
   "cell_type": "code",
   "execution_count": 74,
   "id": "66f8ab4b",
   "metadata": {},
   "outputs": [
    {
     "data": {
      "text/plain": [
       "[array([682, 182,  97], dtype=int64),\n",
       " array([315,  84,  47], dtype=int64),\n",
       " array([46, 11,  6], dtype=int64)]"
      ]
     },
     "execution_count": 74,
     "metadata": {},
     "output_type": "execute_result"
    }
   ],
   "source": [
    "Bt_and_D_df = df[['BusinessTravel','Department']]\n",
    "data = []\n",
    "for depart in departments.index:\n",
    "    item = travelBussines_department_df[travelBussines_department_df['Department'] == depart]\n",
    "    data.append(item.value_counts().values)\n",
    "data\n"
   ]
  },
  {
   "cell_type": "code",
   "execution_count": 97,
   "id": "7dd64a9c",
   "metadata": {},
   "outputs": [
    {
     "data": {
      "text/plain": [
       "([<matplotlib.axis.XTick at 0x27d4b2267f0>,\n",
       "  <matplotlib.axis.XTick at 0x27d4b264a00>,\n",
       "  <matplotlib.axis.XTick at 0x27d4cd6fa30>],\n",
       " [Text(0.15, 0, 'Travel_Rarely'),\n",
       "  Text(1.15, 0, 'Travel_Frequently'),\n",
       "  Text(2.15, 0, 'Non-Travel')])"
      ]
     },
     "execution_count": 97,
     "metadata": {},
     "output_type": "execute_result"
    },
    {
     "data": {
      "image/png": "[encoded data removed]",
      "text/plain": [
       "<Figure size 432x288 with 1 Axes>"
      ]
     },
     "metadata": {
      "needs_background": "light"
     },
     "output_type": "display_data"
    }
   ],
   "source": [
    "business_travel_labels = travel_business.index.values\n",
    "\n",
    "index = np.arange(len(departments.values))\n",
    "width = 0.30\n",
    "\n",
    "plt.bar(index + 0.00, data[0],width=0.25, color = 'b', label=departments.index[0])\n",
    "plt.bar(index + 0.25, data[1], color = 'g', width=0.25, label=departments.index[1])\n",
    "plt.bar(index + 0.50, data[2], color = 'r', width=0.25, label=departments.index[2])\n",
    "\n",
    "plt.xlabel('Travel')\n",
    "plt.xticks(index+ width/2, business_travel_labels)"
   ]
  },
  {
   "cell_type": "markdown",
   "id": "bed8f6f8",
   "metadata": {},
   "source": [
    "<p>🟦Research&Development<br>🟩Sales<br>🟥Human Resourses<p>    "
   ]
  },
  {
   "cell_type": "markdown",
   "id": "7bf2443f",
   "metadata": {},
   "source": [
    "<p>Overview, every department has <a style='color:green'>rarely business travel and non-business travel  occupying big rate.</a></p>"
   ]
  },
  {
   "cell_type": "markdown",
   "id": "12256227",
   "metadata": {},
   "source": [
    "<h3>Distance From Home</h3>"
   ]
  },
  {
   "cell_type": "code",
   "execution_count": 101,
   "id": "064c8a4c",
   "metadata": {},
   "outputs": [
    {
     "data": {
      "text/plain": [
       "9.19251700680272"
      ]
     },
     "execution_count": 101,
     "metadata": {},
     "output_type": "execute_result"
    }
   ],
   "source": [
    "df['DistanceFromHome'].mean()"
   ]
  },
  {
   "cell_type": "markdown",
   "id": "ef3cc5b2",
   "metadata": {},
   "source": [
    "<h5>Average distance from home is about 9Km</h5>"
   ]
  },
  {
   "cell_type": "markdown",
   "id": "8b344daa",
   "metadata": {},
   "source": [
    "<h1> The Factor Impact To The Attrition Rate </h1>"
   ]
  },
  {
   "cell_type": "code",
   "execution_count": 4,
   "id": "e8eae686",
   "metadata": {},
   "outputs": [],
   "source": [
    "yes_attr = df[df.Attrition == 'Yes']\n",
    "no_attr = df[df.Attrition == 'No']"
   ]
  },
  {
   "cell_type": "code",
   "execution_count": 5,
   "id": "427dc35e",
   "metadata": {},
   "outputs": [
    {
     "data": {
      "text/plain": [
       "Ttest_indResult(statistic=2.994708098265125, pvalue=0.0027930600802134266)"
      ]
     },
     "execution_count": 5,
     "metadata": {},
     "output_type": "execute_result"
    }
   ],
   "source": [
    "stats.ttest_ind(yes_attr['DistanceFromHome'].array, no_attr['DistanceFromHome'].array)"
   ]
  },
  {
   "cell_type": "markdown",
   "id": "912ed54a",
   "metadata": {},
   "source": [
    "<h5 style='color:red'> The Distance From Home can impact to the Attrition Rate </h5>"
   ]
  },
  {
   "cell_type": "code",
   "execution_count": 6,
   "id": "dbd8f350",
   "metadata": {},
   "outputs": [
    {
     "data": {
      "text/plain": [
       "Ttest_indResult(statistic=-2.1740836777017747, pvalue=0.02985816066026497)"
      ]
     },
     "execution_count": 6,
     "metadata": {},
     "output_type": "execute_result"
    }
   ],
   "source": [
    "stats.ttest_ind(yes_attr['DailyRate'].array, no_attr['DailyRate'].array)"
   ]
  },
  {
   "cell_type": "markdown",
   "id": "56a7f2d4",
   "metadata": {},
   "source": [
    "<h5 style='color:red'> The Daily Rate can impact to the Attrition Rate </h5>"
   ]
  },
  {
   "cell_type": "code",
   "execution_count": 9,
   "id": "46f61de4",
   "metadata": {},
   "outputs": [
    {
     "data": {
      "text/plain": [
       "Ttest_indResult(statistic=-2.2829029923666897, pvalue=0.02257849973720126)"
      ]
     },
     "execution_count": 9,
     "metadata": {},
     "output_type": "execute_result"
    }
   ],
   "source": [
    "stats.ttest_ind(yes_attr['TrainingTimesLastYear'].array, no_attr['TrainingTimesLastYear'].array)"
   ]
  },
  {
   "cell_type": "markdown",
   "id": "38f95b4f",
   "metadata": {},
   "source": [
    "<h5 style='color:red'> The Training Times Last Year can impact to the Attrition Rate </h5>"
   ]
  },
  {
   "cell_type": "code",
   "execution_count": 10,
   "id": "3fb5c2b9",
   "metadata": {},
   "outputs": [
    {
     "data": {
      "text/plain": [
       "Ttest_indResult(statistic=-2.4548148934297767, pvalue=0.014211054989021308)"
      ]
     },
     "execution_count": 10,
     "metadata": {},
     "output_type": "execute_result"
    }
   ],
   "source": [
    "stats.ttest_ind(yes_attr['WorkLifeBalance'].array, no_attr['WorkLifeBalance'].array)"
   ]
  },
  {
   "cell_type": "markdown",
   "id": "db786fba",
   "metadata": {},
   "source": [
    "<h5 style='color:red'> The Work Life Balance can impact to the Attrition Rate </h5>"
   ]
  },
  {
   "cell_type": "markdown",
   "id": "f63326fc",
   "metadata": {},
   "source": [
    "<h1> The Factor Impact To The Satisfaction Rate </h1>"
   ]
  },
  {
   "cell_type": "code",
   "execution_count": 39,
   "id": "a8aadd0a",
   "metadata": {},
   "outputs": [],
   "source": [
    "sat_attr = df[df.RelationshipSatisfaction == 4]\n",
    "unsat_attr = df[df.RelationshipSatisfaction == 1]"
   ]
  },
  {
   "cell_type": "code",
   "execution_count": 41,
   "id": "818bd644",
   "metadata": {},
   "outputs": [
    {
     "data": {
      "text/plain": [
       "Ttest_indResult(statistic=1.9995251601969486, pvalue=0.0459343171228139)"
      ]
     },
     "execution_count": 41,
     "metadata": {},
     "output_type": "execute_result"
    }
   ],
   "source": [
    "stats.ttest_ind(sat_attr['Age'].array, unsat_attr['Age'].array)"
   ]
  },
  {
   "cell_type": "markdown",
   "id": "3ef8030c",
   "metadata": {},
   "source": [
    "<h5 style='color:red'> The Age can impact to the Satisfaction Rate </h5>"
   ]
  }
 ],
 "metadata": {
  "kernelspec": {
   "display_name": "Python 3",
   "language": "python",
   "name": "python3"
  },
  "language_info": {
   "codemirror_mode": {
    "name": "ipython",
    "version": 3
   },
   "file_extension": ".py",
   "mimetype": "text/x-python",
   "name": "python",
   "nbconvert_exporter": "python",
   "pygments_lexer": "ipython3",
   "version": "3.8.8"
  }
 },
 "nbformat": 4,
 "nbformat_minor": 5
}
